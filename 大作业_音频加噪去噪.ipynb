{
  "cells": [
    {
      "cell_type": "markdown",
      "metadata": {
        "id": "view-in-github",
        "colab_type": "text"
      },
      "source": [
        "<a href=\"https://colab.research.google.com/github/ZS520L/Hello-World/blob/main/%E5%A4%A7%E4%BD%9C%E4%B8%9A_%E9%9F%B3%E9%A2%91%E5%8A%A0%E5%99%AA%E5%8E%BB%E5%99%AA.ipynb\" target=\"_parent\"><img src=\"https://colab.research.google.com/assets/colab-badge.svg\" alt=\"Open In Colab\"/></a>"
      ]
    },
    {
      "cell_type": "code",
      "source": [
        "!pip install pydub"
      ],
      "metadata": {
        "id": "1KKD6BE3rs86",
        "outputId": "d02cfc8f-f2d5-4f6e-865d-92a6915ddd7f",
        "colab": {
          "base_uri": "https://localhost:8080/"
        }
      },
      "execution_count": null,
      "outputs": [
        {
          "output_type": "stream",
          "name": "stdout",
          "text": [
            "Collecting pydub\n",
            "  Downloading pydub-0.25.1-py2.py3-none-any.whl (32 kB)\n",
            "Installing collected packages: pydub\n",
            "Successfully installed pydub-0.25.1\n"
          ]
        }
      ]
    },
    {
      "cell_type": "markdown",
      "source": [
        "# flac转wav"
      ],
      "metadata": {
        "id": "T5h-oVjcL8ix"
      }
    },
    {
      "cell_type": "code",
      "execution_count": null,
      "metadata": {
        "colab": {
          "base_uri": "https://localhost:8080/"
        },
        "id": "lIYdn1woOS1n",
        "outputId": "406e457f-9c76-4843-b42d-535a8b861510"
      },
      "outputs": [
        {
          "output_type": "execute_result",
          "data": {
            "text/plain": [
              "<_io.BufferedRandom name='test.wav'>"
            ]
          },
          "metadata": {},
          "execution_count": 2
        }
      ],
      "source": [
        "from pathlib import PurePath\n",
        "from pydub import AudioSegment\n",
        "\n",
        "file_path = PurePath(\"test.flac\")\n",
        "\n",
        "flac_tmp_audio_data = AudioSegment.from_file(file_path, file_path.suffix[1:])\n",
        "\n",
        "flac_tmp_audio_data.export(file_path.name.replace(file_path.suffix, \"\") + \".wav\", format=\"wav\")"
      ]
    },
    {
      "cell_type": "markdown",
      "source": [
        "# 截取十秒"
      ],
      "metadata": {
        "id": "NfWQxaTYMDAz"
      }
    },
    {
      "cell_type": "code",
      "source": [
        "from pydub import AudioSegment\n",
        "filePath = './'\n",
        " \n",
        "# 操作函数\n",
        "def get_wav_make(dataDir):\n",
        "    sound= AudioSegment.from_wav(dataDir)\n",
        "    duration = sound.duration_seconds * 1000  # 音频时长（ms）\n",
        "    begin = 0\n",
        "    end = int(duration/2)\n",
        "    cut_wav = sound[70000:80000]   #以毫秒为单位截取[begin, end]区间的音频\n",
        "    cut_wav.export(filePath+ 'test1.wav', format='wav')   #存储新的wav文件\n",
        "get_wav_make('/content/test.wav')"
      ],
      "metadata": {
        "id": "eET8c6cKsK91"
      },
      "execution_count": null,
      "outputs": []
    },
    {
      "cell_type": "markdown",
      "source": [
        "# 双通道转单通道"
      ],
      "metadata": {
        "id": "CK_aYI-9MIxP"
      }
    },
    {
      "cell_type": "code",
      "source": [
        "import wave\n",
        "import numpy as np\n",
        "import struct\n",
        "import matplotlib.pyplot as plt\n",
        "\n",
        "# 只读方式打开WAV文件\n",
        "wf = wave.open(r'test1.wav', 'rb')\n",
        "\n",
        "nframes = wf.getnframes()\n",
        "framerate = wf.getframerate()\n",
        "str_data = wf.readframes(nframes)\n",
        "sample_width = wf.getsampwidth()\n",
        "wf.close()\n",
        "\n",
        "# 将波形数据转换成数组\n",
        "wave_data = np.fromstring(str_data, dtype=np.short)\n",
        "print(wave_data.shape)\n",
        "wave_data.shape = (-1, 2)\n",
        "wave_data = wave_data.T\n",
        "mono_wave = (wave_data[0])\n",
        "print(mono_wave)\n",
        "\n",
        "time = np.arange(0, nframes)*(1.0/framerate)\n",
        "\n",
        "plt.subplot(311)\n",
        "plt.plot(time, wave_data[0], c='r')\n",
        "plt.subplot(312)\n",
        "plt.plot(time, wave_data[1], c='r')\n",
        "plt.subplot(313)\n",
        "plt.plot(time, mono_wave, c='r')\n",
        "plt.show()\n",
        "\n",
        "#save wav file\n",
        "wf_mono = wave.open(\"mono.wav\",'wb')\n",
        "wf_mono.setnchannels(1)\n",
        "wf_mono.setframerate(framerate)\n",
        "wf_mono.setsampwidth(sample_width)\n",
        "for i in mono_wave:\n",
        "    data = struct.pack('<h', int(i))\n",
        "    wf_mono.writeframesraw( data )\n",
        "wf_mono.close()"
      ],
      "metadata": {
        "id": "KGWMDWIZALL_",
        "outputId": "8306a30e-1703-45b4-f92c-c14838b7f3a5",
        "colab": {
          "base_uri": "https://localhost:8080/",
          "height": 358
        }
      },
      "execution_count": null,
      "outputs": [
        {
          "output_type": "stream",
          "name": "stderr",
          "text": [
            "/usr/local/lib/python3.7/dist-packages/ipykernel_launcher.py:16: DeprecationWarning: The binary mode of fromstring is deprecated, as it behaves surprisingly on unicode inputs. Use frombuffer instead\n",
            "  app.launch_new_instance()\n"
          ]
        },
        {
          "output_type": "stream",
          "name": "stdout",
          "text": [
            "(882000,)\n",
            "[-12087 -12219 -13839 ...  11892  13022  13924]\n"
          ]
        },
        {
          "output_type": "display_data",
          "data": {
            "text/plain": [
              "<Figure size 432x288 with 3 Axes>"
            ],
            "image/png": "[encoded data removed]"
          },
          "metadata": {
            "needs_background": "light"
          }
        }
      ]
    },
    {
      "cell_type": "markdown",
      "source": [
        "# 时域波形展示"
      ],
      "metadata": {
        "id": "795G4zg4MQRd"
      }
    },
    {
      "cell_type": "code",
      "source": [
        "#wave data   -xlxw\n",
        "\n",
        "#import\n",
        "import wave as we\n",
        "import numpy as np\n",
        "import matplotlib.pyplot as plt\n",
        "\n",
        "def wavread(path):\n",
        "    wavfile =  we.open(path,\"rb\")\n",
        "    params = wavfile.getparams()\n",
        "    framesra,frameswav= params[2],params[3]\n",
        "    datawav = wavfile.readframes(frameswav)\n",
        "    wavfile.close()\n",
        "    datause = np.fromstring(datawav,dtype = np.short)\n",
        "    datause.shape = -1,2\n",
        "    datause = datause.T\n",
        "    time = np.arange(0, frameswav) * (1.0/framesra)\n",
        "    return datause,time\n",
        "\n",
        "def main():\n",
        "    path = 'test1.wav'\n",
        "    wavdata,wavtime = wavread(path)\n",
        "    plt.title(\"Night.wav's Frames\")\n",
        "    plt.subplot(211)\n",
        "    plt.plot(wavtime, wavdata[0],color = 'green')\n",
        "    plt.subplot(212)\n",
        "    plt.plot(wavtime, wavdata[1])\n",
        "    plt.show()\n",
        "    return wavdata[0]\n",
        "    \n",
        "datas = main()"
      ],
      "metadata": {
        "id": "cRoZwOnfvusc",
        "outputId": "04d5e7df-cb5c-40a2-87e0-107102df97ea",
        "colab": {
          "base_uri": "https://localhost:8080/",
          "height": 322
        }
      },
      "execution_count": null,
      "outputs": [
        {
          "output_type": "stream",
          "name": "stderr",
          "text": [
            "/usr/local/lib/python3.7/dist-packages/ipykernel_launcher.py:14: DeprecationWarning: The binary mode of fromstring is deprecated, as it behaves surprisingly on unicode inputs. Use frombuffer instead\n",
            "  \n"
          ]
        },
        {
          "output_type": "display_data",
          "data": {
            "text/plain": [
              "<Figure size 432x288 with 2 Axes>"
            ],
            "image/png": "[encoded data removed]"
          },
          "metadata": {
            "needs_background": "light"
          }
        }
      ]
    },
    {
      "cell_type": "markdown",
      "source": [
        "# 谱减法语音降噪"
      ],
      "metadata": {
        "id": "gCXRPRPwMdMO"
      }
    },
    {
      "cell_type": "code",
      "source": [
        "import ctypes as ct\n",
        "\n",
        "\n",
        "class FloatBits(ct.Structure):\n",
        "    _fields_ = [\n",
        "        ('M', ct.c_uint, 23),\n",
        "        ('E', ct.c_uint, 8),\n",
        "        ('S', ct.c_uint, 1)\n",
        "    ]\n",
        "\n",
        "\n",
        "class Float(ct.Union):\n",
        "    _anonymous_ = ('bits',)\n",
        "    _fields_ = [\n",
        "        ('value', ct.c_float),\n",
        "        ('bits', FloatBits)\n",
        "    ]\n",
        "\n",
        "\n",
        "def nextpow2(x):\n",
        "    if x < 0:\n",
        "        x = -x\n",
        "    if x == 0:\n",
        "        return 0\n",
        "    d = Float()\n",
        "    d.value = x\n",
        "    if d.M == 0:\n",
        "        return d.E - 127\n",
        "    return d.E - 127 + 1"
      ],
      "metadata": {
        "id": "jhZvZd823NeS"
      },
      "execution_count": null,
      "outputs": []
    },
    {
      "cell_type": "code",
      "source": [
        "#!/usr/bin/env python\n",
        "import numpy as np\n",
        "import wave\n",
        "import math\n",
        "\n",
        "# 打开WAV文档\n",
        "f = wave.open(\"test1.wav\")\n",
        "# 读取格式信息\n",
        "# (nchannels, sampwidth, framerate, nframes, comptype, compname)\n",
        "params = f.getparams()\n",
        "nchannels, sampwidth, framerate, nframes = params[:4]\n",
        "fs = framerate\n",
        "# 读取波形数据\n",
        "str_data = f.readframes(nframes)\n",
        "f.close()\n",
        "# 将波形数据转换为数组\n",
        "x = np.fromstring(str_data, dtype=np.short)\n",
        "# 计算参数\n",
        "len_ = 20 * fs // 1000 # 样本中帧的大小\n",
        "PERC = 50 # 窗口重叠占帧的百分比\n",
        "len1 = len_ * PERC // 100  # 重叠窗口\n",
        "len2 = len_ - len1   # 非重叠窗口\n",
        "# 设置默认参数\n",
        "Thres = 3\n",
        "Expnt = 2.0\n",
        "beta = 0.002\n",
        "G = 0.9\n",
        "# 初始化汉明窗\n",
        "win = np.hamming(len_)\n",
        "# normalization gain for overlap+add with 50% overlap\n",
        "winGain = len2 / sum(win)\n",
        "\n",
        "# Noise magnitude calculations - assuming that the first 5 frames is noise/silence\n",
        "nFFT = 2 * 2 ** (nextpow2(len_))\n",
        "noise_mean = np.zeros(nFFT)\n",
        "\n",
        "j = 0\n",
        "for k in range(1, 6):\n",
        "    noise_mean = noise_mean + abs(np.fft.fft(win * x[j:j + len_], nFFT))\n",
        "    j = j + len_\n",
        "noise_mu = noise_mean / 5\n",
        "\n",
        "# --- allocate memory and initialize various variables\n",
        "k = 1\n",
        "img = 1j\n",
        "x_old = np.zeros(len1)\n",
        "Nframes = len(x) // len2 - 1\n",
        "xfinal = np.zeros(Nframes * len2)\n",
        "\n",
        "# =========================    Start Processing   ===============================\n",
        "for n in range(0, Nframes):\n",
        "    # Windowing\n",
        "    insign = win * x[k-1:k + len_ - 1]\n",
        "    # compute fourier transform of a frame\n",
        "    spec = np.fft.fft(insign, nFFT)\n",
        "    # compute the magnitude\n",
        "    sig = abs(spec)\n",
        "\n",
        "    # save the noisy phase information\n",
        "    theta = np.angle(spec)\n",
        "    SNRseg = 10 * np.log10(np.linalg.norm(sig, 2) ** 2 / np.linalg.norm(noise_mu, 2) ** 2)\n",
        "\n",
        "\n",
        "    def berouti(SNR):\n",
        "        if -5.0 <= SNR <= 20.0:\n",
        "            a = 4 - SNR * 3 / 20\n",
        "        else:\n",
        "            if SNR < -5.0:\n",
        "                a = 5\n",
        "            if SNR > 20:\n",
        "                a = 1\n",
        "        return a\n",
        "\n",
        "\n",
        "    def berouti1(SNR):\n",
        "        if -5.0 <= SNR <= 20.0:\n",
        "            a = 3 - SNR * 2 / 20\n",
        "        else:\n",
        "            if SNR < -5.0:\n",
        "                a = 4\n",
        "            if SNR > 20:\n",
        "                a = 1\n",
        "        return a\n",
        "\n",
        "    if Expnt == 1.0:  # 幅度谱\n",
        "        alpha = berouti1(SNRseg)\n",
        "    else:  # 功率谱\n",
        "        alpha = berouti(SNRseg)\n",
        "    #############\n",
        "    sub_speech = sig ** Expnt - alpha * noise_mu ** Expnt;\n",
        "    # 当纯净信号小于噪声信号的功率时\n",
        "    diffw = sub_speech - beta * noise_mu ** Expnt\n",
        "    # beta negative components\n",
        "\n",
        "    def find_index(x_list):\n",
        "        index_list = []\n",
        "        for i in range(len(x_list)):\n",
        "            if x_list[i] < 0:\n",
        "                index_list.append(i)\n",
        "        return index_list\n",
        "\n",
        "    z = find_index(diffw)\n",
        "    if len(z) > 0:\n",
        "        # 用估计出来的噪声信号表示下限值\n",
        "        sub_speech[z] = beta * noise_mu[z] ** Expnt\n",
        "        # --- implement a simple VAD detector --------------\n",
        "    if SNRseg < Thres:  # Update noise spectrum\n",
        "        noise_temp = G * noise_mu ** Expnt + (1 - G) * sig ** Expnt  # 平滑处理噪声功率谱\n",
        "        noise_mu = noise_temp ** (1 / Expnt)  # 新的噪声幅度谱\n",
        "    # flipud函数实现矩阵的上下翻转，是以矩阵的“水平中线”为对称轴\n",
        "    # 交换上下对称元素\n",
        "    sub_speech[nFFT // 2 + 1:nFFT] = np.flipud(sub_speech[1:nFFT // 2])\n",
        "    x_phase = (sub_speech ** (1 / Expnt)) * (np.array([math.cos(x) for x in theta]) + img * (np.array([math.sin(x) for x in theta])))\n",
        "    # take the IFFT\n",
        "\n",
        "    xi = np.fft.ifft(x_phase).real\n",
        "    # --- Overlap and add ---------------\n",
        "    xfinal[k-1:k + len2 - 1] = x_old + xi[0:len1]\n",
        "    x_old = xi[0 + len1:len_]\n",
        "    k = k + len2\n",
        "# 保存文件\n",
        "wf = wave.open('en_outfile.wav', 'wb')\n",
        "# 设置参数\n",
        "wf.setparams(params)\n",
        "# 设置波形文件 .tostring()将array转换为data\n",
        "wave_data = (winGain * xfinal).astype(np.short)\n",
        "wf.writeframes(wave_data.tostring())\n",
        "wf.close()\n"
      ],
      "metadata": {
        "id": "Sn1YGuYdys_Z",
        "outputId": "a162b264-c112-497a-dc4d-38a977bc0566",
        "colab": {
          "base_uri": "https://localhost:8080/"
        }
      },
      "execution_count": null,
      "outputs": [
        {
          "output_type": "stream",
          "name": "stderr",
          "text": [
            "/usr/local/lib/python3.7/dist-packages/ipykernel_launcher.py:17: DeprecationWarning: The binary mode of fromstring is deprecated, as it behaves surprisingly on unicode inputs. Use frombuffer instead\n",
            "/usr/local/lib/python3.7/dist-packages/ipykernel_launcher.py:127: DeprecationWarning: tostring() is deprecated. Use tobytes() instead.\n"
          ]
        }
      ]
    },
    {
      "cell_type": "markdown",
      "source": [
        "# 频谱图绘制"
      ],
      "metadata": {
        "id": "ijz4TcMeM1Fu"
      }
    },
    {
      "cell_type": "code",
      "source": [
        "import wave as we\n",
        "import numpy as np\n",
        "import matplotlib.pyplot as plt\n",
        "\n",
        "def read_wav(wavfile, plots=True, normal=False):\n",
        "    f = wavfile\n",
        "    params = f.getparams()\n",
        "    # print(params)\n",
        "    nchannels, sampwidth, framerate, nframes = params[:4]\n",
        "    strData = f.readframes(nframes)  # 读取音频，字符串格式\n",
        "    waveData = np.frombuffer(strData, dtype=np.int16)  # 将字符串转化为int\n",
        "    # wave幅值归一化\n",
        "    if normal == True:\n",
        "        waveData = waveData*1.0/(max(abs(waveData)))\n",
        "    # 绘图\n",
        "    waveData = waveData[:441000]\n",
        "    if plots == True:\n",
        "        time = np.arange(0, nframes)*(1.0 / framerate)\n",
        "        plt.figure(dpi=100)\n",
        "        plt.plot(time, waveData)\n",
        "        plt.xlabel(\"Time\")\n",
        "        plt.ylabel(\"Amplitude\")\n",
        "        plt.title(\"Single channel wavedata\")\n",
        "        plt.show()\n",
        "    return (waveData, time)\n",
        "\n",
        "def fft_wav(waveData, plots=True):\n",
        "    f_array = np.fft.fft(waveData)  # 傅里叶变换，结果为复数数组\n",
        "    f_abs = f_array\n",
        "    axis_f = np.linspace(0, 250, np.int(len(f_array)/2))  # 映射到250\n",
        "    # axis_f = np.linspace(0, 250, np.int(len(f_array)))  # 映射到250\n",
        "    if plots == True:\n",
        "        plt.figure(dpi=100)\n",
        "        plt.plot(axis_f, np.abs(f_abs[0:len(axis_f)]))\n",
        "        # plt.plot(axis_f, np.abs(f_abs))\n",
        "        plt.xlabel(\"Frequency\")\n",
        "        plt.ylabel(\"Amplitude spectrum\")\n",
        "        plt.title(\"Tile map\")\n",
        "        plt.show()\n",
        "    return f_abs"
      ],
      "metadata": {
        "id": "xwbOwVz07hdR"
      },
      "execution_count": null,
      "outputs": []
    },
    {
      "cell_type": "code",
      "source": [
        "wavefft = fft_wav(datas)"
      ],
      "metadata": {
        "id": "fZN8_20U7kg3",
        "outputId": "89261e57-f9d8-4d55-9385-5e7ff320053c",
        "colab": {
          "base_uri": "https://localhost:8080/",
          "height": 461
        }
      },
      "execution_count": null,
      "outputs": [
        {
          "output_type": "stream",
          "name": "stderr",
          "text": [
            "/usr/local/lib/python3.7/dist-packages/ipykernel_launcher.py:30: DeprecationWarning: `np.int` is a deprecated alias for the builtin `int`. To silence this warning, use `int` by itself. Doing this will not modify any behavior and is safe. When replacing `np.int`, you may wish to use e.g. `np.int64` or `np.int32` to specify the precision. If you wish to review your current use, check the release note link for additional information.\n",
            "Deprecated in NumPy 1.20; for more details and guidance: https://numpy.org/devdocs/release/1.20.0-notes.html#deprecations\n"
          ]
        },
        {
          "output_type": "display_data",
          "data": {
            "text/plain": [
              "<Figure size 600x400 with 1 Axes>"
            ],
            "image/png": "[encoded data removed]"
          },
          "metadata": {
            "needs_background": "light"
          }
        }
      ]
    },
    {
      "cell_type": "markdown",
      "source": [
        "# 加噪及去噪"
      ],
      "metadata": {
        "id": "8LfXkUK1M8mB"
      }
    },
    {
      "cell_type": "code",
      "source": [
        "!git clone https://github.com/EoralMilk/WAV-noiser-filter.git"
      ],
      "metadata": {
        "id": "-1ku_L999wHY",
        "outputId": "754dcea6-718a-4846-a4c5-34fa2858a2da",
        "colab": {
          "base_uri": "https://localhost:8080/"
        }
      },
      "execution_count": null,
      "outputs": [
        {
          "output_type": "stream",
          "name": "stdout",
          "text": [
            "Cloning into 'WAV-noiser-filter'...\n",
            "remote: Enumerating objects: 22, done.\u001b[K\n",
            "remote: Counting objects: 100% (22/22), done.\u001b[K\n",
            "remote: Compressing objects: 100% (18/18), done.\u001b[K\n",
            "remote: Total 22 (delta 6), reused 20 (delta 4), pack-reused 0\u001b[K\n",
            "Unpacking objects: 100% (22/22), done.\n"
          ]
        }
      ]
    },
    {
      "cell_type": "code",
      "source": [
        "import wave as we\n",
        "import numpy as np\n",
        "import matplotlib.pyplot as plt\n",
        "\n",
        "\n",
        "def wavread(path):\n",
        "    wavfile = we.open(path,\"rb\")                        #打开WAV文件\n",
        "    params = wavfile.getparams()                        #获取WAV头文件中的参数\n",
        "    nchannels, sampwidth, framerate, nframes= params[:4]            #获取声道数，量化位数，采样率和帧数\n",
        "    datawav = wavfile.readframes(nframes)               #读取每一帧数据\n",
        "    wavfile.close()                                     #关闭文件\n",
        "    datause = np.fromstring(datawav,dtype = np.short)   #将String格式转换成int型数据\n",
        "    datause.shape = -1,nchannels                        #将横向矩阵转为纵向矩阵，注意声道数\n",
        "    datause = datause.T\t                                #矩阵转置\n",
        "    time = np.arange(0, nframes) * (1.0/framerate)      #返回一个时间长度的list\n",
        "    return datause,time,nchannels, sampwidth, framerate, nframes\n",
        "\n",
        "def getfreq(datause,nframes,framerate,start):   # 时域转频域\n",
        "    N = nframes                                 # 采样点数，修改采样点数进行不同位置和长度的音频波形分析\n",
        "    df = framerate/(N-1)                        # 分辨率\n",
        "    freq = [df*n for n in range(0,N)]           # N个元素\n",
        "    tempdata = datause[0][start:start+N]\n",
        "    freqdata = np.fft.fft(tempdata)*2/N\n",
        "    d=int(len(freqdata)/2)                      # 常规显示采样频率一半的频谱\n",
        "    return freq,d,freqdata\n",
        "\n",
        "def freq2time(nframes,freqdata):    # 频域转时域\n",
        "    fdata = freqdata*nframes\n",
        "    filter_sig = np.fft.ifft(fdata).real\n",
        "    data = filter_sig.astype(np.short)\n",
        "    return data\n",
        "\n",
        "\n",
        "def filter(freq,d,freqdata): # 滤波器\n",
        "    while d:\n",
        "        d-=1\n",
        "        if freq[d] > 10000:  # 滤除频率10000以上部分\n",
        "            freqdata[d]=0\n",
        "    return freqdata\n",
        "\n",
        "def noiser(freq,d,freqdata): # 制造噪音\n",
        "    while d:\n",
        "        d-=1\n",
        "        if freq[d] >= 11000: #在11000处添强烈噪音\n",
        "            freqdata[d]=20000 #噪音强度要足够高效果才明显\n",
        "    return freqdata\n",
        "\n",
        "def wavwrite(path, nchannels, sampwidth, framerate, wave_data):\n",
        "    # 打开WAV文档\n",
        "    wavfile = we.open(path, \"wb\")\n",
        "    # 配置声道数、量化位数和取样频率\n",
        "    wavfile.setnchannels(nchannels)\n",
        "    wavfile.setsampwidth(sampwidth)\n",
        "    wavfile.setframerate(framerate)\n",
        "    # 将wav_data转换为二进制数据写入文件\n",
        "    wavfile.writeframes(wave_data.tostring())\n",
        "    wavfile.close()\n",
        "\n",
        "\n",
        "def main():\n",
        "    path = 'mono.wav' #input(\"The Path is:\")             #这是一个单声道的wav文件\n",
        "    # 读取文件\n",
        "    wavdata,wavtime,nchannels, sampwidth, framerate, nframes = wavread(path)\n",
        "    \n",
        "    freq,d,freqdata = getfreq(wavdata,nframes,framerate,0) # 获得频域信号\n",
        "    # 滤波前波形绘制\n",
        "    plt.figure(figsize=(10, 10))\n",
        "    plt.subplot(421)                                    \n",
        "    plt.plot(wavtime, wavdata[0],color = 'green')       #时域\n",
        "    plt.subplot(422)                                    \n",
        "    plt.plot(freq[:d-1],abs(freqdata[:d-1]),'r')        #频域\n",
        "\n",
        "    freqdata_n = noiser(freq,d,freqdata)                #噪声加入！\n",
        "    data_n = freq2time(nframes,freqdata_n)              #fft逆变换将噪声频域转时域\n",
        "    # 噪声后波形绘制\n",
        "    plt.subplot(423)                                    \n",
        "    plt.plot(wavtime, data_n, color = 'green')          #噪声后时域\n",
        "    plt.subplot(424)                                    \n",
        "    plt.plot(freq[:d-1],abs(freqdata_n[:d-1]),'r')      #噪声后频域\n",
        "\n",
        "    # 写入加入噪声的文件\n",
        "    wavwrite('evan.wav', nchannels, sampwidth, framerate, data_n)\n",
        "\n",
        "    freqdata_f = filter(freq,d,freqdata)                #滤波\n",
        "    data_f = freq2time(nframes,freqdata_f)              #fft逆变换转回时域\n",
        "    # 滤波后波形绘制\n",
        "    plt.subplot(413)                                    \n",
        "    plt.plot(wavtime, data_f, color = 'green')          #滤波后时域\n",
        "    plt.subplot(414)                                    \n",
        "    plt.plot(freq[:d-1],abs(freqdata_f[:d-1]),'r')      #滤波后频域\n",
        "\n",
        "    # 写入滤除噪声后的文件\n",
        "    wavwrite('evaf.wav', nchannels, sampwidth, framerate, data_f)\n",
        "\n",
        "    plt.show()\n",
        "\n",
        "\n",
        "\n",
        "\n",
        "if __name__ == \"__main__\":\n",
        "    main()"
      ],
      "metadata": {
        "id": "qhLL5UeZ95bG",
        "outputId": "95a9c5e8-af3e-4007-c985-3bb7a93eb99c",
        "colab": {
          "base_uri": "https://localhost:8080/",
          "height": 685
        }
      },
      "execution_count": null,
      "outputs": [
        {
          "output_type": "stream",
          "name": "stderr",
          "text": [
            "/usr/local/lib/python3.7/dist-packages/ipykernel_launcher.py:12: DeprecationWarning: The binary mode of fromstring is deprecated, as it behaves surprisingly on unicode inputs. Use frombuffer instead\n",
            "  if sys.path[0] == '':\n",
            "/usr/local/lib/python3.7/dist-packages/ipykernel_launcher.py:56: DeprecationWarning: tostring() is deprecated. Use tobytes() instead.\n",
            "/usr/local/lib/python3.7/dist-packages/ipykernel_launcher.py:56: DeprecationWarning: tostring() is deprecated. Use tobytes() instead.\n"
          ]
        },
        {
          "output_type": "display_data",
          "data": {
            "text/plain": [
              "<Figure size 720x720 with 6 Axes>"
            ],
            "image/png": "[encoded data removed]"
          },
          "metadata": {
            "needs_background": "light"
          }
        }
      ]
    },
    {
      "cell_type": "markdown",
      "source": [
        "# 低通滤频器幅频响应波形"
      ],
      "metadata": {
        "id": "SaMxvTp6NEi6"
      }
    },
    {
      "cell_type": "code",
      "source": [
        "import numpy as np\n",
        "import matplotlib.pyplot as plt\n",
        "\n",
        "# 设置numpy的随机种子，保证每次随机得到的值一致\n",
        "np.random.seed(233)\n",
        "# 定义一个10个长度的，每个元素为0的array\n",
        "zero_array = np.zeros(shape=[10, ])\n",
        "# 使用5对上面的数组进行填充\n",
        "zero_array.fill(5)\n",
        "# 生成10随机数的数组，最大值为3，最小值为-3\n",
        "random_num = np.random.randint(low=-3, high=3, size=10)\n",
        "fill_array = zero_array + random_num\n",
        "print(fill_array)\n",
        "\n",
        "# 设置画布个数和尺寸\n",
        "fig = plt.figure(num=1, figsize=[4, 4])\n",
        "\n",
        "# # 绘制第一个子图，没有填充\n",
        "# plt.subplot(131)\n",
        "# plt.plot(fill_array)\n",
        "# plt.ylim([-0.5, 10.5])\n",
        "\n",
        "# 绘制第二个子图，在竖直方向进行填充， facecolor为填充的颜色，alpha为透明度\n",
        "# plt.subplot(132)\n",
        "plt.plot([0,11000,11001,22000],[1,1,0,0])\n",
        "plt.ylim([-0.5, 1.5])\n",
        "plt.fill_between(x=[0,11000,11001,15000], y1=1, y2=[0,0,1,1], facecolor='red', alpha=0.5)\n",
        "\n",
        "# # 绘制第三个子图，在水平方向进行填充\n",
        "# plt.subplot(133)\n",
        "# plt.plot(fill_array)\n",
        "# plt.ylim([-0.5, 10.5])\n",
        "# plt.fill_betweenx(x1=0, x2=fill_array, y=range(10, 0, -1), facecolor='green', alpha=0.3)\n",
        "\n",
        "plt.show()\n"
      ],
      "metadata": {
        "id": "fDIb2sYiKIog",
        "outputId": "5991f34a-361a-4187-80bb-62385c4d6719",
        "colab": {
          "base_uri": "https://localhost:8080/",
          "height": 287
        }
      },
      "execution_count": null,
      "outputs": [
        {
          "output_type": "stream",
          "name": "stdout",
          "text": [
            "[7. 3. 6. 5. 7. 3. 5. 5. 6. 3.]\n"
          ]
        },
        {
          "output_type": "display_data",
          "data": {
            "text/plain": [
              "<Figure size 288x288 with 1 Axes>"
            ],
            "image/png": "[encoded data removed]"
          },
          "metadata": {
            "needs_background": "light"
          }
        }
      ]
    }
  ],
  "metadata": {
    "colab": {
      "name": "大作业-音频加噪去噪",
      "provenance": [],
      "collapsed_sections": [],
      "include_colab_link": true
    },
    "kernelspec": {
      "display_name": "Python 3",
      "name": "python3"
    }
  },
  "nbformat": 4,
  "nbformat_minor": 0
}